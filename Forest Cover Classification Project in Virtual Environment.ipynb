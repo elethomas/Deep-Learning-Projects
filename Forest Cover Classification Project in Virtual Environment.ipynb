{
 "cells": [
  {
   "cell_type": "code",
   "execution_count": null,
   "id": "346a0247",
   "metadata": {},
   "outputs": [],
   "source": [
    "#In this project, you will use deep learning to predict forest cover type (the most common kind of tree cover) \n",
    "#based only on cartographic variables. The actual forest cover type for a given 30 x 30 meter cell was determined \n",
    "#from US Forest Service (USFS) Region 2 Resource Information System data. The covertypes are the following:\n",
    "\n",
    "    #Spruce/Fir\n",
    "    #Lodgepole Pine\n",
    "    #Ponderosa Pine\n",
    "    #Cottonwood/Willow\n",
    "    #Aspen\n",
    "    #Douglas-fir\n",
    "    #Krummholz\n",
    "    \n",
    "#Independent variables were then derived from data obtained from the US Geological Survey and USFS. \n",
    "#The data is raw and has not been scaled or preprocessed for you. It contains binary columns of data for \n",
    "#qualitative independent variables such as wilderness areas and soil type.\n",
    "\n",
    "#This study area includes four wilderness areas located in the Roosevelt National Forest of northern Colorado. \n",
    "#These areas represent forests with minimal human-caused disturbances, so existing forest cover types are \n",
    "#mainly a result of ecological processes rather than forest management practices.  \n",
    "\n",
    "#Project Objectives:\n",
    "    #Develop one or more classifiers for this multi-class classification problem.\n",
    "    #Use TensorFlow with Keras to build your classifier(s).\n",
    "    #Use your knowledge of hyperparameter tuning to improve the performance of your model(s).\n",
    "    #Test and analyze performance.\n",
    "    #Create clean and modular code."
   ]
  },
  {
   "cell_type": "code",
   "execution_count": 16,
   "id": "62f6d421",
   "metadata": {},
   "outputs": [],
   "source": [
    "import tensorflow as tf\n",
    "import pandas as pd\n",
    "import numpy as np\n",
    "from collections import Counter\n",
    "from sklearn.model_selection import train_test_split\n",
    "from sklearn.preprocessing import StandardScaler, LabelEncoder\n",
    "from sklearn.compose import ColumnTransformer\n",
    "from tensorflow.keras.utils import to_categorical\n",
    "from tensorflow.keras.models import Sequential\n",
    "from tensorflow.keras.layers import Dense, InputLayer\n",
    "from tensorflow.keras.callbacks import EarlyStopping\n",
    "from sklearn.metrics import classification_report, confusion_matrix\n",
    "import matplotlib.pyplot as plt"
   ]
  },
  {
   "cell_type": "code",
   "execution_count": 2,
   "id": "40d25e74",
   "metadata": {},
   "outputs": [],
   "source": [
    "####Preprocess and explore the data"
   ]
  },
  {
   "cell_type": "code",
   "execution_count": 3,
   "id": "430394bb",
   "metadata": {},
   "outputs": [
    {
     "name": "stdout",
     "output_type": "stream",
     "text": [
      "<class 'pandas.core.frame.DataFrame'>\n",
      "RangeIndex: 581012 entries, 0 to 581011\n",
      "Data columns (total 55 columns):\n",
      " #   Column                              Non-Null Count   Dtype\n",
      "---  ------                              --------------   -----\n",
      " 0   Elevation                           581012 non-null  int64\n",
      " 1   Aspect                              581012 non-null  int64\n",
      " 2   Slope                               581012 non-null  int64\n",
      " 3   Horizontal_Distance_To_Hydrology    581012 non-null  int64\n",
      " 4   Vertical_Distance_To_Hydrology      581012 non-null  int64\n",
      " 5   Horizontal_Distance_To_Roadways     581012 non-null  int64\n",
      " 6   Hillshade_9am                       581012 non-null  int64\n",
      " 7   Hillshade_Noon                      581012 non-null  int64\n",
      " 8   Hillshade_3pm                       581012 non-null  int64\n",
      " 9   Horizontal_Distance_To_Fire_Points  581012 non-null  int64\n",
      " 10  Wilderness_Area1                    581012 non-null  int64\n",
      " 11  Wilderness_Area2                    581012 non-null  int64\n",
      " 12  Wilderness_Area3                    581012 non-null  int64\n",
      " 13  Wilderness_Area4                    581012 non-null  int64\n",
      " 14  Soil_Type1                          581012 non-null  int64\n",
      " 15  Soil_Type2                          581012 non-null  int64\n",
      " 16  Soil_Type3                          581012 non-null  int64\n",
      " 17  Soil_Type4                          581012 non-null  int64\n",
      " 18  Soil_Type5                          581012 non-null  int64\n",
      " 19  Soil_Type6                          581012 non-null  int64\n",
      " 20  Soil_Type7                          581012 non-null  int64\n",
      " 21  Soil_Type8                          581012 non-null  int64\n",
      " 22  Soil_Type9                          581012 non-null  int64\n",
      " 23  Soil_Type10                         581012 non-null  int64\n",
      " 24  Soil_Type11                         581012 non-null  int64\n",
      " 25  Soil_Type12                         581012 non-null  int64\n",
      " 26  Soil_Type13                         581012 non-null  int64\n",
      " 27  Soil_Type14                         581012 non-null  int64\n",
      " 28  Soil_Type15                         581012 non-null  int64\n",
      " 29  Soil_Type16                         581012 non-null  int64\n",
      " 30  Soil_Type17                         581012 non-null  int64\n",
      " 31  Soil_Type18                         581012 non-null  int64\n",
      " 32  Soil_Type19                         581012 non-null  int64\n",
      " 33  Soil_Type20                         581012 non-null  int64\n",
      " 34  Soil_Type21                         581012 non-null  int64\n",
      " 35  Soil_Type22                         581012 non-null  int64\n",
      " 36  Soil_Type23                         581012 non-null  int64\n",
      " 37  Soil_Type24                         581012 non-null  int64\n",
      " 38  Soil_Type25                         581012 non-null  int64\n",
      " 39  Soil_Type26                         581012 non-null  int64\n",
      " 40  Soil_Type27                         581012 non-null  int64\n",
      " 41  Soil_Type28                         581012 non-null  int64\n",
      " 42  Soil_Type29                         581012 non-null  int64\n",
      " 43  Soil_Type30                         581012 non-null  int64\n",
      " 44  Soil_Type31                         581012 non-null  int64\n",
      " 45  Soil_Type32                         581012 non-null  int64\n",
      " 46  Soil_Type33                         581012 non-null  int64\n",
      " 47  Soil_Type34                         581012 non-null  int64\n",
      " 48  Soil_Type35                         581012 non-null  int64\n",
      " 49  Soil_Type36                         581012 non-null  int64\n",
      " 50  Soil_Type37                         581012 non-null  int64\n",
      " 51  Soil_Type38                         581012 non-null  int64\n",
      " 52  Soil_Type39                         581012 non-null  int64\n",
      " 53  Soil_Type40                         581012 non-null  int64\n",
      " 54  class                               581012 non-null  int64\n",
      "dtypes: int64(55)\n",
      "memory usage: 243.8 MB\n",
      "Counter({2: 283301, 1: 211840, 3: 35754, 7: 20510, 6: 17367, 5: 9493, 4: 2747})\n"
     ]
    }
   ],
   "source": [
    "# Load the data\n",
    "data = pd.read_csv('../Downloads/cover_data.csv')\n",
    "data.head()\n",
    "data.shape\n",
    "\n",
    "# Check for NAs\n",
    "data.isna().sum() #there are no NAs\n",
    "\n",
    "# Columns and datatypes\n",
    "data.info()\n",
    "\n",
    "# Print the class distribution of 'class' column\n",
    "print(Counter(data['class'])) #seven classes, imbalanaced dataset"
   ]
  },
  {
   "cell_type": "code",
   "execution_count": 4,
   "id": "c734fb22",
   "metadata": {},
   "outputs": [],
   "source": [
    "# Features\n",
    "features = data.iloc[:, 0:-1]\n",
    "\n",
    "# Labels\n",
    "labels = data.iloc[:, -1]"
   ]
  },
  {
   "cell_type": "code",
   "execution_count": 5,
   "id": "a9ca4a60",
   "metadata": {},
   "outputs": [],
   "source": [
    "# Split the data into training and test data, using stratify argument (imbalanced dataset)\n",
    "X_train, X_test, Y_train, Y_test = train_test_split(features, labels, stratify = labels, \n",
    "                                                    test_size = 0.2, random_state = 42)  "
   ]
  },
  {
   "cell_type": "code",
   "execution_count": 6,
   "id": "644cec6f",
   "metadata": {},
   "outputs": [],
   "source": [
    "#Standardise the features columns (all feature columns are numerical)\n",
    "\n",
    "# Initialize a ColumnTransformer object\n",
    "ct = ColumnTransformer([('scale', StandardScaler(), features.columns)]) \n",
    "\n",
    "#Fit the standardiser to the training data\n",
    "X_train = ct.fit_transform(X_train) \n",
    "\n",
    "#Fit the standardiser to the test data\n",
    "X_test = ct.transform(X_test)"
   ]
  },
  {
   "cell_type": "code",
   "execution_count": 7,
   "id": "ba7d8bdf",
   "metadata": {},
   "outputs": [],
   "source": [
    "####Preparing labels for classification####"
   ]
  },
  {
   "cell_type": "code",
   "execution_count": 8,
   "id": "2e7a142f",
   "metadata": {},
   "outputs": [],
   "source": [
    "#Initialise LabelEncoder\n",
    "le = LabelEncoder()\n",
    "\n",
    "#Fit encoder to training labels\n",
    "Y_train = le.fit_transform(Y_train.astype(str))\n",
    "\n",
    "#Fit encoder to test labels\n",
    "Y_test = le.transform(Y_test.astype(str))\n",
    " \n",
    "#Transform encoded training labels into a binary vector\n",
    "#Y_train = to_categorical(Y_train)\n",
    "\n",
    "#Transform encoded test labels into a binary vector\n",
    "#Y_test = to_categorical(Y_test)"
   ]
  },
  {
   "cell_type": "code",
   "execution_count": 9,
   "id": "167f1d65",
   "metadata": {},
   "outputs": [],
   "source": [
    "####Design the model"
   ]
  },
  {
   "cell_type": "code",
   "execution_count": 19,
   "id": "fa5ac396",
   "metadata": {},
   "outputs": [
    {
     "name": "stdout",
     "output_type": "stream",
     "text": [
      "Model: \"sequential_1\"\n",
      "_________________________________________________________________\n",
      "Layer (type)                 Output Shape              Param #   \n",
      "=================================================================\n",
      "dense_2 (Dense)              (None, 64)                3520      \n",
      "_________________________________________________________________\n",
      "dense_3 (Dense)              (None, 7)                 455       \n",
      "=================================================================\n",
      "Total params: 3,975\n",
      "Trainable params: 3,975\n",
      "Non-trainable params: 0\n",
      "_________________________________________________________________\n"
     ]
    }
   ],
   "source": [
    "# Initialise model\n",
    "model = Sequential()\n",
    "\n",
    "# Add the input layer\n",
    "model.add(InputLayer(input_shape=(X_train.shape[1],)))\n",
    "# Add a hidden layer\n",
    "model.add(Dense(64, activation = 'relu'))\n",
    "# Add an output layer (there are seven classes)\n",
    "model.add(Dense(7, activation = 'softmax'))\n",
    "\n",
    "model.summary()"
   ]
  },
  {
   "cell_type": "code",
   "execution_count": 20,
   "id": "bfa77bbd",
   "metadata": {},
   "outputs": [],
   "source": [
    "# Compile the model\n",
    "model.compile(loss = 'sparse_categorical_crossentropy', optimizer = 'adam', metrics = ['accuracy'])"
   ]
  },
  {
   "cell_type": "code",
   "execution_count": 21,
   "id": "275e13db",
   "metadata": {},
   "outputs": [],
   "source": [
    "####Train and evaluate the model"
   ]
  },
  {
   "cell_type": "code",
   "execution_count": 22,
   "id": "2d8cb81a",
   "metadata": {},
   "outputs": [
    {
     "name": "stdout",
     "output_type": "stream",
     "text": [
      "Train on 464809 samples, validate on 116203 samples\n",
      "Epoch 1/100\n",
      "464809/464809 [==============================] - 6s 13us/sample - loss: 0.7767 - accuracy: 0.6871 - val_loss: 0.6366 - val_accuracy: 0.7335\n",
      "Epoch 2/100\n",
      "464809/464809 [==============================] - 4s 10us/sample - loss: 0.6100 - accuracy: 0.7420 - val_loss: 0.5928 - val_accuracy: 0.7473\n",
      "Epoch 3/100\n",
      "464809/464809 [==============================] - 5s 10us/sample - loss: 0.5767 - accuracy: 0.7546 - val_loss: 0.5666 - val_accuracy: 0.7604\n",
      "Epoch 4/100\n",
      "464809/464809 [==============================] - 5s 11us/sample - loss: 0.5545 - accuracy: 0.7632 - val_loss: 0.5489 - val_accuracy: 0.7639\n",
      "Epoch 5/100\n",
      "464809/464809 [==============================] - 5s 12us/sample - loss: 0.5387 - accuracy: 0.7693 - val_loss: 0.5327 - val_accuracy: 0.7723\n",
      "Epoch 6/100\n",
      "464809/464809 [==============================] - 7s 15us/sample - loss: 0.5265 - accuracy: 0.7738 - val_loss: 0.5235 - val_accuracy: 0.7761\n",
      "Epoch 7/100\n",
      "464809/464809 [==============================] - 7s 15us/sample - loss: 0.5161 - accuracy: 0.7778 - val_loss: 0.5136 - val_accuracy: 0.7793\n",
      "Epoch 8/100\n",
      "464809/464809 [==============================] - 7s 14us/sample - loss: 0.5072 - accuracy: 0.7820 - val_loss: 0.5063 - val_accuracy: 0.7841\n",
      "Epoch 9/100\n",
      "464809/464809 [==============================] - 6s 13us/sample - loss: 0.4997 - accuracy: 0.7855 - val_loss: 0.4973 - val_accuracy: 0.7891\n",
      "Epoch 10/100\n",
      "464809/464809 [==============================] - 7s 16us/sample - loss: 0.4926 - accuracy: 0.7890 - val_loss: 0.4913 - val_accuracy: 0.7905\n",
      "Epoch 11/100\n",
      "464809/464809 [==============================] - 8s 18us/sample - loss: 0.4866 - accuracy: 0.7917 - val_loss: 0.4867 - val_accuracy: 0.7937\n",
      "Epoch 12/100\n",
      "464809/464809 [==============================] - 6s 12us/sample - loss: 0.4814 - accuracy: 0.7939 - val_loss: 0.4817 - val_accuracy: 0.7952\n",
      "Epoch 13/100\n",
      "464809/464809 [==============================] - 6s 13us/sample - loss: 0.4771 - accuracy: 0.7959 - val_loss: 0.4781 - val_accuracy: 0.7967\n",
      "Epoch 14/100\n",
      "464809/464809 [==============================] - 6s 13us/sample - loss: 0.4731 - accuracy: 0.7979 - val_loss: 0.4743 - val_accuracy: 0.7975\n",
      "Epoch 15/100\n",
      "464809/464809 [==============================] - 5s 12us/sample - loss: 0.4691 - accuracy: 0.7995 - val_loss: 0.4705 - val_accuracy: 0.8002\n",
      "Epoch 16/100\n",
      "464809/464809 [==============================] - 6s 12us/sample - loss: 0.4658 - accuracy: 0.8008 - val_loss: 0.4677 - val_accuracy: 0.8011\n",
      "Epoch 17/100\n",
      "464809/464809 [==============================] - 11s 24us/sample - loss: 0.4626 - accuracy: 0.8021 - val_loss: 0.4651 - val_accuracy: 0.8035\n",
      "Epoch 18/100\n",
      "464809/464809 [==============================] - 7s 14us/sample - loss: 0.4596 - accuracy: 0.8031 - val_loss: 0.4607 - val_accuracy: 0.8051\n",
      "Epoch 19/100\n",
      "464809/464809 [==============================] - 5s 11us/sample - loss: 0.4569 - accuracy: 0.8046 - val_loss: 0.4585 - val_accuracy: 0.8039\n",
      "Epoch 20/100\n",
      "464809/464809 [==============================] - 7s 15us/sample - loss: 0.4542 - accuracy: 0.8058 - val_loss: 0.4576 - val_accuracy: 0.8054\n",
      "Epoch 21/100\n",
      "464809/464809 [==============================] - 7s 16us/sample - loss: 0.4520 - accuracy: 0.8068 - val_loss: 0.4534 - val_accuracy: 0.8074\n",
      "Epoch 22/100\n",
      "464809/464809 [==============================] - 5s 11us/sample - loss: 0.4496 - accuracy: 0.8082 - val_loss: 0.4528 - val_accuracy: 0.8084\n",
      "Epoch 23/100\n",
      "464809/464809 [==============================] - 6s 12us/sample - loss: 0.4473 - accuracy: 0.8093 - val_loss: 0.4507 - val_accuracy: 0.8073\n",
      "Epoch 24/100\n",
      "464809/464809 [==============================] - 5s 12us/sample - loss: 0.4451 - accuracy: 0.8102 - val_loss: 0.4480 - val_accuracy: 0.8109\n",
      "Epoch 25/100\n",
      "464809/464809 [==============================] - 7s 16us/sample - loss: 0.4433 - accuracy: 0.8117 - val_loss: 0.4459 - val_accuracy: 0.8112\n",
      "Epoch 26/100\n",
      "464809/464809 [==============================] - 11s 23us/sample - loss: 0.4415 - accuracy: 0.8123 - val_loss: 0.4444 - val_accuracy: 0.8131\n",
      "Epoch 27/100\n",
      "464809/464809 [==============================] - 6s 13us/sample - loss: 0.4398 - accuracy: 0.8132 - val_loss: 0.4431 - val_accuracy: 0.8123\n",
      "Epoch 28/100\n",
      "464809/464809 [==============================] - 6s 13us/sample - loss: 0.4382 - accuracy: 0.8142 - val_loss: 0.4409 - val_accuracy: 0.8142\n",
      "Epoch 29/100\n",
      "464809/464809 [==============================] - 6s 13us/sample - loss: 0.4368 - accuracy: 0.8150 - val_loss: 0.4397 - val_accuracy: 0.8145\n",
      "Epoch 30/100\n",
      "464809/464809 [==============================] - 5s 11us/sample - loss: 0.4346 - accuracy: 0.8159 - val_loss: 0.4387 - val_accuracy: 0.8155\n",
      "Epoch 31/100\n",
      "464809/464809 [==============================] - 5s 12us/sample - loss: 0.4332 - accuracy: 0.8169 - val_loss: 0.4381 - val_accuracy: 0.8145\n",
      "Epoch 32/100\n",
      "464809/464809 [==============================] - 6s 13us/sample - loss: 0.4319 - accuracy: 0.8177 - val_loss: 0.4354 - val_accuracy: 0.8168\n",
      "Epoch 33/100\n",
      "464809/464809 [==============================] - 10s 21us/sample - loss: 0.4301 - accuracy: 0.8181 - val_loss: 0.4339 - val_accuracy: 0.8179\n",
      "Epoch 34/100\n",
      "464809/464809 [==============================] - 10s 21us/sample - loss: 0.4283 - accuracy: 0.8190 - val_loss: 0.4325 - val_accuracy: 0.8180\n",
      "Epoch 35/100\n",
      "464809/464809 [==============================] - 13s 27us/sample - loss: 0.4272 - accuracy: 0.8196 - val_loss: 0.4316 - val_accuracy: 0.8179\n",
      "Epoch 36/100\n",
      "464809/464809 [==============================] - 7s 15us/sample - loss: 0.4255 - accuracy: 0.8204 - val_loss: 0.4293 - val_accuracy: 0.8191\n",
      "Epoch 37/100\n",
      "464809/464809 [==============================] - 7s 16us/sample - loss: 0.4245 - accuracy: 0.8205 - val_loss: 0.4277 - val_accuracy: 0.8202\n",
      "Epoch 38/100\n",
      "464809/464809 [==============================] - 6s 14us/sample - loss: 0.4232 - accuracy: 0.8218 - val_loss: 0.4273 - val_accuracy: 0.8201\n",
      "Epoch 39/100\n",
      "464809/464809 [==============================] - 8s 16us/sample - loss: 0.4217 - accuracy: 0.8223 - val_loss: 0.4259 - val_accuracy: 0.8211\n",
      "Epoch 40/100\n",
      "464809/464809 [==============================] - 7s 15us/sample - loss: 0.4205 - accuracy: 0.8228 - val_loss: 0.4247 - val_accuracy: 0.8217\n",
      "Epoch 41/100\n",
      "464809/464809 [==============================] - 9s 19us/sample - loss: 0.4192 - accuracy: 0.8233 - val_loss: 0.4258 - val_accuracy: 0.8222\n",
      "Epoch 42/100\n",
      "464809/464809 [==============================] - 6s 13us/sample - loss: 0.4181 - accuracy: 0.8244 - val_loss: 0.4213 - val_accuracy: 0.8231\n",
      "Epoch 43/100\n",
      "464809/464809 [==============================] - 6s 13us/sample - loss: 0.4170 - accuracy: 0.8244 - val_loss: 0.4211 - val_accuracy: 0.8235\n",
      "Epoch 44/100\n",
      "464809/464809 [==============================] - 7s 15us/sample - loss: 0.4155 - accuracy: 0.8253 - val_loss: 0.4210 - val_accuracy: 0.8223\n",
      "Epoch 45/100\n",
      "464809/464809 [==============================] - 7s 15us/sample - loss: 0.4145 - accuracy: 0.8256 - val_loss: 0.4178 - val_accuracy: 0.8246\n",
      "Epoch 46/100\n",
      "464809/464809 [==============================] - 5s 11us/sample - loss: 0.4135 - accuracy: 0.8266 - val_loss: 0.4192 - val_accuracy: 0.8229\n",
      "Epoch 47/100\n",
      "464809/464809 [==============================] - 5s 11us/sample - loss: 0.4122 - accuracy: 0.8271 - val_loss: 0.4166 - val_accuracy: 0.8247\n",
      "Epoch 48/100\n",
      "464809/464809 [==============================] - 5s 12us/sample - loss: 0.4112 - accuracy: 0.8271 - val_loss: 0.4151 - val_accuracy: 0.8264\n",
      "Epoch 49/100\n",
      "464809/464809 [==============================] - 5s 12us/sample - loss: 0.4109 - accuracy: 0.8274 - val_loss: 0.4166 - val_accuracy: 0.8256\n",
      "Epoch 50/100\n",
      "464809/464809 [==============================] - 13s 28us/sample - loss: 0.4096 - accuracy: 0.8283 - val_loss: 0.4129 - val_accuracy: 0.8278\n",
      "Epoch 51/100\n",
      "464809/464809 [==============================] - 9s 19us/sample - loss: 0.4084 - accuracy: 0.8289 - val_loss: 0.4133 - val_accuracy: 0.8268\n",
      "Epoch 52/100\n",
      "464809/464809 [==============================] - 9s 19us/sample - loss: 0.4081 - accuracy: 0.8293 - val_loss: 0.4125 - val_accuracy: 0.8275\n",
      "Epoch 53/100\n",
      "464809/464809 [==============================] - 9s 18us/sample - loss: 0.4069 - accuracy: 0.8292 - val_loss: 0.4115 - val_accuracy: 0.8269\n",
      "Epoch 54/100\n"
     ]
    },
    {
     "name": "stdout",
     "output_type": "stream",
     "text": [
      "464809/464809 [==============================] - 5s 11us/sample - loss: 0.4060 - accuracy: 0.8301 - val_loss: 0.4121 - val_accuracy: 0.8281\n",
      "Epoch 55/100\n",
      "464809/464809 [==============================] - 5s 11us/sample - loss: 0.4053 - accuracy: 0.8303 - val_loss: 0.4098 - val_accuracy: 0.8279\n",
      "Epoch 56/100\n",
      "464809/464809 [==============================] - 5s 11us/sample - loss: 0.4047 - accuracy: 0.8304 - val_loss: 0.4078 - val_accuracy: 0.8304\n",
      "Epoch 57/100\n",
      "464809/464809 [==============================] - 5s 11us/sample - loss: 0.4039 - accuracy: 0.8309 - val_loss: 0.4086 - val_accuracy: 0.8298\n",
      "Epoch 58/100\n",
      "464809/464809 [==============================] - 8s 18us/sample - loss: 0.4028 - accuracy: 0.8311 - val_loss: 0.4102 - val_accuracy: 0.8278\n",
      "Epoch 59/100\n",
      "464809/464809 [==============================] - 6s 12us/sample - loss: 0.4027 - accuracy: 0.8314 - val_loss: 0.4081 - val_accuracy: 0.8313\n",
      "Epoch 60/100\n",
      "464809/464809 [==============================] - 6s 12us/sample - loss: 0.4016 - accuracy: 0.8322 - val_loss: 0.4076 - val_accuracy: 0.8312\n",
      "Epoch 61/100\n",
      "464809/464809 [==============================] - 5s 11us/sample - loss: 0.4009 - accuracy: 0.8325 - val_loss: 0.4059 - val_accuracy: 0.8318\n",
      "Epoch 62/100\n",
      "464809/464809 [==============================] - 5s 11us/sample - loss: 0.4003 - accuracy: 0.8330 - val_loss: 0.4040 - val_accuracy: 0.8323\n",
      "Epoch 63/100\n",
      "464809/464809 [==============================] - 5s 12us/sample - loss: 0.3996 - accuracy: 0.8329 - val_loss: 0.4049 - val_accuracy: 0.8306\n",
      "Epoch 64/100\n",
      "464809/464809 [==============================] - 5s 11us/sample - loss: 0.3992 - accuracy: 0.8331 - val_loss: 0.4041 - val_accuracy: 0.8331\n",
      "Epoch 65/100\n",
      "464809/464809 [==============================] - 5s 12us/sample - loss: 0.3981 - accuracy: 0.8341 - val_loss: 0.4034 - val_accuracy: 0.8329\n",
      "Epoch 66/100\n",
      "464809/464809 [==============================] - 5s 12us/sample - loss: 0.3977 - accuracy: 0.8340 - val_loss: 0.4034 - val_accuracy: 0.8319\n",
      "Epoch 67/100\n",
      "464809/464809 [==============================] - 6s 12us/sample - loss: 0.3975 - accuracy: 0.8344 - val_loss: 0.4018 - val_accuracy: 0.8316\n",
      "Epoch 68/100\n",
      "464809/464809 [==============================] - 6s 12us/sample - loss: 0.3965 - accuracy: 0.8348 - val_loss: 0.4020 - val_accuracy: 0.8314\n",
      "Epoch 69/100\n",
      "464809/464809 [==============================] - 5s 11us/sample - loss: 0.3958 - accuracy: 0.8351 - val_loss: 0.4029 - val_accuracy: 0.8321\n",
      "Epoch 00069: early stopping\n"
     ]
    }
   ],
   "source": [
    "# Initialise early stopping\n",
    "es = EarlyStopping(monitor = 'val_accuracy', mode = 'max', verbose = 1, patience = 5)\n",
    "\n",
    "# Fit the model\n",
    "num_epochs = 100\n",
    "batch_size = 1024\n",
    "\n",
    "#model.fit(X_train, Y_train, validation_data = (X_test, Y_test), epochs = num_epochs, batch_size = batch_size, verbose = 1, callbacks = [es])\n",
    "\n",
    "history = model.fit(X_train, Y_train, validation_data = (X_test, Y_test), epochs = num_epochs, \n",
    "                    batch_size = batch_size, verbose = 1, callbacks = [es])"
   ]
  },
  {
   "cell_type": "code",
   "execution_count": 23,
   "id": "69f0b0a6",
   "metadata": {},
   "outputs": [
    {
     "data": {
      "image/png": "[encoded data removed]",
      "text/plain": [
       "<Figure size 432x288 with 2 Axes>"
      ]
     },
     "metadata": {
      "needs_background": "light"
     },
     "output_type": "display_data"
    }
   ],
   "source": [
    "# Plot loss during training\n",
    "plt.subplot(211)\n",
    "plt.title('Loss')\n",
    "plt.plot(history.history['loss'], label='train')\n",
    "plt.plot(history.history['val_loss'], label='test')\n",
    "plt.xlabel('Epoch')\n",
    "plt.ylabel('Loss')\n",
    "plt.legend()\n",
    "\n",
    "# Plot accuracy during training\n",
    "plt.subplot(212)\n",
    "plt.title('Accuracy')\n",
    "plt.plot(history.history['accuracy'], label='train')\n",
    "plt.plot(history.history['val_accuracy'], label='test')\n",
    "plt.xlabel('Epoch')\n",
    "plt.ylabel('Accuracy')\n",
    "plt.legend()\n",
    "plt.show()"
   ]
  },
  {
   "cell_type": "code",
   "execution_count": 24,
   "id": "4b05c0b6",
   "metadata": {},
   "outputs": [
    {
     "name": "stdout",
     "output_type": "stream",
     "text": [
      "                   precision    recall  f1-score   support\n",
      "\n",
      "       Spruce/Fir       0.85      0.80      0.82     42368\n",
      "   Lodgepole Pine       0.83      0.89      0.86     56661\n",
      "   Ponderosa Pine       0.79      0.85      0.82      7151\n",
      "Cottonwood/Willow       0.77      0.71      0.74       549\n",
      "            Aspen       0.75      0.37      0.49      1899\n",
      "      Douglas Fir       0.66      0.52      0.58      3473\n",
      "        Krummholz       0.88      0.82      0.85      4102\n",
      "\n",
      "         accuracy                           0.83    116203\n",
      "        macro avg       0.79      0.71      0.74    116203\n",
      "     weighted avg       0.83      0.83      0.83    116203\n",
      "\n",
      "[[33844  8036    14     0    48    10   416]\n",
      " [ 5135 50526   436     2   187   324    51]\n",
      " [    0   461  6091    64     0   535     0]\n",
      " [    0     0   116   388     0    45     0]\n",
      " [   75  1052    61     0   701    10     0]\n",
      " [    7   655   968    47     0  1796     0]\n",
      " [  712    40     0     0     0     0  3350]]\n"
     ]
    }
   ],
   "source": [
    "####Generating a classification report and confusion matrix\n",
    "\n",
    "# Class names\n",
    "class_names = ['Spruce/Fir', 'Lodgepole Pine', 'Ponderosa Pine', 'Cottonwood/Willow', \n",
    "               'Aspen', 'Douglas Fir', 'Krummholz']\n",
    "y_pred = model.predict(X_test)\n",
    "y_pred = np.argmax(y_pred, axis = 1)\n",
    "\n",
    "# Classification report\n",
    "print(classification_report(Y_test, y_pred, target_names = class_names))\n",
    "\n",
    "# Confusion Matrix\n",
    "print(confusion_matrix(Y_test, y_pred))"
   ]
  },
  {
   "cell_type": "code",
   "execution_count": 31,
   "id": "bf61a0c7",
   "metadata": {},
   "outputs": [
    {
     "data": {
      "image/png": "[encoded data removed]",
      "text/plain": [
       "<Figure size 864x864 with 2 Axes>"
      ]
     },
     "metadata": {
      "needs_background": "light"
     },
     "output_type": "display_data"
    }
   ],
   "source": [
    "#Confusion Matrix Heatmap\n",
    "import seaborn as sns\n",
    "cm = confusion_matrix(Y_test, y_pred)\n",
    "fig, ax = plt.subplots(figsize = (12, 12))\n",
    "heatmap = sns.heatmap(cm, fmt = 'g', cmap = 'Blues', annot = True, ax = ax)\n",
    "ax.set_xlabel('Predicted class')\n",
    "ax.set_ylabel('True class')\n",
    "ax.set_title('Confusion Matrix')\n",
    "ax.xaxis.set_ticklabels(class_names)\n",
    "ax.yaxis.set_ticklabels(class_names)\n",
    "plt.show()"
   ]
  },
  {
   "cell_type": "code",
   "execution_count": 18,
   "id": "dd195f44",
   "metadata": {},
   "outputs": [
    {
     "name": "stderr",
     "output_type": "stream",
     "text": [
      "IOPub data rate exceeded.\n",
      "The notebook server will temporarily stop sending output\n",
      "to the client in order to avoid crashing it.\n",
      "To change this limit, set the config variable\n",
      "`--NotebookApp.iopub_data_rate_limit`.\n",
      "\n",
      "Current values:\n",
      "NotebookApp.iopub_data_rate_limit=1000000.0 (bytes/sec)\n",
      "NotebookApp.rate_limit_window=3.0 (secs)\n",
      "\n"
     ]
    }
   ],
   "source": [
    "#Evaluate the model\n",
    "acc, loss = model.evaluate(X_test, Y_test)"
   ]
  },
  {
   "cell_type": "code",
   "execution_count": null,
   "id": "12467984",
   "metadata": {},
   "outputs": [],
   "source": [
    "#Copied from \n",
    "#https://machinelearningmastery.com/how-to-calculate-precision-recall-f1-and-more-for-deep-learning-models/\n",
    "\n",
    "from sklearn.metrics import accuracy_score\n",
    "from sklearn.metrics import precision_score\n",
    "from sklearn.metrics import recall_score\n",
    "from sklearn.metrics import f1_score\n",
    "from sklearn.metrics import cohen_kappa_score\n",
    "from sklearn.metrics import roc_auc_score\n",
    "from sklearn.metrics import confusion_matrix\n",
    "\n",
    "# Predict probabilities for test set\n",
    "yhat_probs = model.predict(X_test, verbose=0)\n",
    "# Predict classes for test set\n",
    "yhat_classes = model.predict_classes(X_test, verbose=0)\n",
    "# Reduce to 1d array\n",
    "yhat_probs = yhat_probs[:, 0]\n",
    "yhat_classes = yhat_classes[:, 0]\n",
    " \n",
    "# Accuracy: (tp + tn) / (p + n)\n",
    "accuracy = accuracy_score(Y_test, yhat_classes)\n",
    "print('Accuracy: %f' % accuracy)\n",
    "# precision tp / (tp + fp)\n",
    "precision = precision_score(Y_test, yhat_classes)\n",
    "print('Precision: %f' % precision)\n",
    "# recall: tp / (tp + fn)\n",
    "recall = recall_score(Y_test, yhat_classes)\n",
    "print('Recall: %f' % recall)\n",
    "# f1: 2 tp / (2 tp + fp + fn)\n",
    "f1 = f1_score(Y_test, yhat_classes)\n",
    "print('F1 score: %f' % f1)\n",
    " \n",
    "# kappa\n",
    "kappa = cohen_kappa_score(Y_test, yhat_classes)\n",
    "print('Cohens kappa: %f' % kappa)\n",
    "# ROC AUC\n",
    "auc = roc_auc_score(Y_test, yhat_probs)\n",
    "print('ROC AUC: %f' % auc)\n",
    "# confusion matrix\n",
    "matrix = confusion_matrix(Y_test, yhat_classes)\n",
    "print(matrix)"
   ]
  }
 ],
 "metadata": {
  "kernelspec": {
   "display_name": "my_tensorflow",
   "language": "python",
   "name": "my_tensorflow"
  },
  "language_info": {
   "codemirror_mode": {
    "name": "ipython",
    "version": 3
   },
   "file_extension": ".py",
   "mimetype": "text/x-python",
   "name": "python",
   "nbconvert_exporter": "python",
   "pygments_lexer": "ipython3",
   "version": "3.7.11"
  }
 },
 "nbformat": 4,
 "nbformat_minor": 5
}
